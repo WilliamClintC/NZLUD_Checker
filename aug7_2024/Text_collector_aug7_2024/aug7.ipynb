{
 "cells": [
  {
   "cell_type": "code",
   "execution_count": 1,
   "metadata": {},
   "outputs": [],
   "source": [
    "import pandas as pd\n",
    "import os\n",
    "\n",
    "# Directory containing the files\n",
    "directory = r\"C:\\Users\\clint\\Desktop\\NZLUD_Checker\\aug7_2024\\Text_collector_aug7_2024\"\n",
    "\n",
    "# List to hold data from each file\n",
    "data_frames = []\n",
    "\n",
    "# Loop through each file and read it into a DataFrame\n",
    "for i in range(1, 58):\n",
    "    file_path = os.path.join(directory, f'text_collector_{i}.csv')\n",
    "    try:\n",
    "        df = pd.read_csv(file_path)\n",
    "        data_frames.append(df)\n",
    "    except FileNotFoundError:\n",
    "        print(f\"File {file_path} not found, skipping.\")\n",
    "\n",
    "# Concatenate all DataFrames into one\n",
    "combined_df = pd.concat(data_frames, ignore_index=True)\n",
    "\n",
    "# Write the combined DataFrame to a new CSV file\n",
    "combined_df.to_csv('combined_text_collector_aug7.csv', index=False)"
   ]
  },
  {
   "cell_type": "code",
   "execution_count": null,
   "metadata": {},
   "outputs": [],
   "source": []
  }
 ],
 "metadata": {
  "kernelspec": {
   "display_name": "Python 3",
   "language": "python",
   "name": "python3"
  },
  "language_info": {
   "codemirror_mode": {
    "name": "ipython",
    "version": 3
   },
   "file_extension": ".py",
   "mimetype": "text/x-python",
   "name": "python",
   "nbconvert_exporter": "python",
   "pygments_lexer": "ipython3",
   "version": "3.11.9"
  }
 },
 "nbformat": 4,
 "nbformat_minor": 2
}
