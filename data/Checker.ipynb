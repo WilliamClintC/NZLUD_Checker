{
 "cells": [
  {
   "cell_type": "code",
   "execution_count": 1,
   "metadata": {},
   "outputs": [],
   "source": [
    "import pandas as pd\n",
    "\n",
    "# Initialize an empty DataFrame for combined data\n",
    "combined_data = pd.DataFrame()\n",
    "\n",
    "# Loop through the range of your files\n",
    "for i in range(1, 56):  # 53 is exclusive, so it goes from 1 to 55\n",
    "    file_name = f\"test_{i}.xls\"  # Construct file name\n",
    "    data = pd.read_excel(file_name)  # Read the Excel file\n",
    "    combined_data = pd.concat([combined_data, data], ignore_index=True)  # Append data\n"
   ]
  },
  {
   "cell_type": "code",
   "execution_count": 2,
   "metadata": {},
   "outputs": [],
   "source": [
    "combined_data.to_csv(\"Wills_data.csv\", index=False)"
   ]
  },
  {
   "cell_type": "code",
   "execution_count": null,
   "metadata": {},
   "outputs": [],
   "source": []
  }
 ],
 "metadata": {
  "kernelspec": {
   "display_name": "Python 3",
   "language": "python",
   "name": "python3"
  },
  "language_info": {
   "codemirror_mode": {
    "name": "ipython",
    "version": 3
   },
   "file_extension": ".py",
   "mimetype": "text/x-python",
   "name": "python",
   "nbconvert_exporter": "python",
   "pygments_lexer": "ipython3",
   "version": "3.11.9"
  }
 },
 "nbformat": 4,
 "nbformat_minor": 2
}
